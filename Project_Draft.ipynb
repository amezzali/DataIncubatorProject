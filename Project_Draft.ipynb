{
 "cells": [
  {
   "cell_type": "code",
   "execution_count": 1,
   "metadata": {},
   "outputs": [
    {
     "name": "stderr",
     "output_type": "stream",
     "text": [
      "/Users/amezzali/anaconda3/lib/python3.6/site-packages/IPython/core/interactiveshell.py:2698: DtypeWarning: Columns (9,15,18) have mixed types. Specify dtype option on import or set low_memory=False.\n",
      "  interactivity=interactivity, compiler=compiler, result=result)\n"
     ]
    }
   ],
   "source": [
    "# Libraries and Magic\n",
    "\n",
    "import pandas as pd\n",
    "import numpy as np\n",
    "import matplotlib.pyplot as plt\n",
    "from sklearn import linear_model\n",
    "from scipy.optimize import curve_fit\n",
    "import re\n",
    "\n",
    "def mymatch(string):\n",
    "    return re.sub(r'(.*) (CITY|TOWN)$',r\"\\1\", string)\n",
    "\n",
    "\n",
    "%matplotlib inline\n",
    "\n",
    "# Read csv\n",
    "\n",
    "dfA = pd.read_csv('csvData/mudf15q3pub_csv.csv', encoding = \"ISO-8859-1\")\n",
    "#print(dfA.head())\n",
    "\n",
    "dfC = pd.read_csv('csvData/PEP_2016_PEPANNRES_with_ann.csv', encoding = \"ISO-8859-1\")\n",
    "\n",
    "dfCONVERSION = pd.read_csv('csvData/conversion.csv', encoding = \"ISO-8859-1\")\n",
    "dConv = dfCONVERSION.set_index('STATE').to_dict()['CODE']\n",
    "\n",
    "dfC = dfC[['GEO.display-label','respop72015']][1:]\n",
    "dfC.columns = ['CITYTOT','POPULATION']\n",
    "\n",
    "dfC1 = dfC.copy()\n",
    "dfC1['CITYTOT'] = dfC1['CITYTOT'].apply(lambda x: x.upper())\n",
    "dfC1['STATE'] = dfC1['CITYTOT'].apply(lambda x : x.split(', ')[1])\n",
    "dfC1['CITY'] = dfC1['CITYTOT'].apply(lambda x : x.split(', ')[0]).apply(lambda x : mymatch(x))\n",
    "dfC1['POPULATION'] = dfC1['POPULATION'].apply(lambda x : int(x))\n",
    "\n",
    "dfC2 = dfC1[(dfC1['POPULATION']>10000) & (dfC1['POPULATION']<100001)].copy()\n",
    "\n",
    "dfC2['STATECOD'] = dfC2['STATE'].apply(lambda x : dConv[x])"
   ]
  },
  {
   "cell_type": "code",
   "execution_count": 2,
   "metadata": {},
   "outputs": [
    {
     "data": {
      "text/html": [
       "<div>\n",
       "<style>\n",
       "    .dataframe thead tr:only-child th {\n",
       "        text-align: right;\n",
       "    }\n",
       "\n",
       "    .dataframe thead th {\n",
       "        text-align: left;\n",
       "    }\n",
       "\n",
       "    .dataframe tbody tr th {\n",
       "        vertical-align: top;\n",
       "    }\n",
       "</style>\n",
       "<table border=\"1\" class=\"dataframe\">\n",
       "  <thead>\n",
       "    <tr style=\"text-align: right;\">\n",
       "      <th></th>\n",
       "      <th>INCOME</th>\n",
       "      <th>MUSEUMCOD</th>\n",
       "      <th>ZONE</th>\n",
       "    </tr>\n",
       "  </thead>\n",
       "  <tbody>\n",
       "    <tr>\n",
       "      <th>count</th>\n",
       "      <td>2.296100e+04</td>\n",
       "      <td>3.307200e+04</td>\n",
       "      <td>32995.000000</td>\n",
       "    </tr>\n",
       "    <tr>\n",
       "      <th>mean</th>\n",
       "      <td>1.069682e+08</td>\n",
       "      <td>8.403812e+09</td>\n",
       "      <td>2.505834</td>\n",
       "    </tr>\n",
       "    <tr>\n",
       "      <th>std</th>\n",
       "      <td>2.509287e+09</td>\n",
       "      <td>2.662542e+06</td>\n",
       "      <td>1.211841</td>\n",
       "    </tr>\n",
       "    <tr>\n",
       "      <th>min</th>\n",
       "      <td>-9.230000e+02</td>\n",
       "      <td>8.400100e+09</td>\n",
       "      <td>1.000000</td>\n",
       "    </tr>\n",
       "    <tr>\n",
       "      <th>25%</th>\n",
       "      <td>0.000000e+00</td>\n",
       "      <td>8.401801e+09</td>\n",
       "      <td>1.000000</td>\n",
       "    </tr>\n",
       "    <tr>\n",
       "      <th>50%</th>\n",
       "      <td>8.781000e+03</td>\n",
       "      <td>8.403600e+09</td>\n",
       "      <td>2.000000</td>\n",
       "    </tr>\n",
       "    <tr>\n",
       "      <th>75%</th>\n",
       "      <td>2.163770e+05</td>\n",
       "      <td>8.404801e+09</td>\n",
       "      <td>4.000000</td>\n",
       "    </tr>\n",
       "    <tr>\n",
       "      <th>max</th>\n",
       "      <td>8.318144e+10</td>\n",
       "      <td>8.409504e+09</td>\n",
       "      <td>4.000000</td>\n",
       "    </tr>\n",
       "  </tbody>\n",
       "</table>\n",
       "</div>"
      ],
      "text/plain": [
       "             INCOME     MUSEUMCOD          ZONE\n",
       "count  2.296100e+04  3.307200e+04  32995.000000\n",
       "mean   1.069682e+08  8.403812e+09      2.505834\n",
       "std    2.509287e+09  2.662542e+06      1.211841\n",
       "min   -9.230000e+02  8.400100e+09      1.000000\n",
       "25%    0.000000e+00  8.401801e+09      1.000000\n",
       "50%    8.781000e+03  8.403600e+09      2.000000\n",
       "75%    2.163770e+05  8.404801e+09      4.000000\n",
       "max    8.318144e+10  8.409504e+09      4.000000"
      ]
     },
     "execution_count": 2,
     "metadata": {},
     "output_type": "execute_result"
    }
   ],
   "source": [
    "dfA1 = dfA[['ADSTATE','ADCITY','DISCIPL','INCOME','MID','COMMONNAME','LOCALE4']].copy()\n",
    "dfA1.columns = ['STATECOD', 'CITY', 'DISCIPL', 'INCOME','MUSEUMCOD','MUSEUMNAME','ZONE']\n",
    "dfA1.describe()"
   ]
  },
  {
   "cell_type": "code",
   "execution_count": 4,
   "metadata": {},
   "outputs": [],
   "source": [
    "# Discipline chart  DISCIPL\n",
    "\n",
    "#ART Art Museums\n",
    "#BOT Arboretums, Botanical Gardens, & Nature Centers\n",
    "#CMU Children's Museums\n",
    "#GMU Uncategorized or General Museums\n",
    "#HSC Historical Societies, Historic Preservation\n",
    "#HST History Museums\n",
    "#NAT Natural History & Natural Science Museums\n",
    "#SCI Science & Technology Museums & Planetariums\n",
    "#ZAW Zoos, Aquariums, & Wildlife Conservation"
   ]
  },
  {
   "cell_type": "code",
   "execution_count": null,
   "metadata": {
    "collapsed": true
   },
   "outputs": [],
   "source": [
    "dfAC = pd.merge(dfA1, dfC2, how='left', on=['STATECOD', 'CITY']).dropna()\n",
    "dfAC.head()"
   ]
  },
  {
   "cell_type": "code",
   "execution_count": 10,
   "metadata": {},
   "outputs": [
    {
     "data": {
      "image/png": "[encoded data removed]",
      "text/plain": [
       "<matplotlib.figure.Figure at 0x105d93b38>"
      ]
     },
     "metadata": {},
     "output_type": "display_data"
    }
   ],
   "source": [
    "# First Plot\n",
    "\n",
    "dfAC3 = dfAC.groupby(['STATECOD']).agg({'INCOME':'sum','POPULATION':'sum'}).reset_index()\n",
    "dfAC3['RATIO'] = dfAC3['INCOME']/dfAC3['POPULATION']\n",
    "\n",
    "dfAC3 = dfAC3.sort_values('RATIO',ascending=False)\n",
    "\n",
    "x = range(len(dfAC3['STATECOD'].unique()))\n",
    "\n",
    "y = np.array(dfAC3['RATIO'])\n",
    "\n",
    "plt.figure(figsize=(18, 5))\n",
    "plt.bar(x,y,width=.6)\n",
    "\n",
    "plt.grid()\n",
    "plt.xticks(x, dfAC3['STATECOD'] )\n",
    "plt.ylabel('Income over Population')\n",
    "plt.title('Income over Population, by State, considering middle-sized cities only (pop. around 10k-100k)')\n",
    "\n",
    "plt.savefig('plot1.png')"
   ]
  },
  {
   "cell_type": "code",
   "execution_count": 9,
   "metadata": {},
   "outputs": [
    {
     "data": {
      "image/png": "[encoded data removed]",
      "text/plain": [
       "<matplotlib.figure.Figure at 0x105d93ef0>"
      ]
     },
     "metadata": {},
     "output_type": "display_data"
    }
   ],
   "source": [
    "# Second Plot\n",
    "\n",
    "dfAC4 = dfAC.groupby(['DISCIPL']).agg({'INCOME':'sum','MUSEUMNAME':'count'}).reset_index()\n",
    "\n",
    "dfAC4['RATIO'] = dfAC4['INCOME']/dfAC4['MUSEUMNAME']\n",
    "\n",
    "dfAC4 = dfAC4.sort_values('RATIO',ascending=False)\n",
    "\n",
    "x = range(len(dfAC4['DISCIPL'].unique()))\n",
    "\n",
    "y = np.array(dfAC4['RATIO']/1000000)\n",
    "\n",
    "plt.figure(figsize=(18, 5))\n",
    "plt.bar(x,y,width=.6)\n",
    "\n",
    "plt.grid()\n",
    "plt.xticks(x, dfAC4['DISCIPL'] )\n",
    "plt.ylabel('Income-number of Museums Ratio (Million Dollars)')\n",
    "plt.title('Income over number of Museums, per Type of Museum, considering middle-sized cities only (pop. around 10k-100k)')\n",
    "\n",
    "plt.savefig('plot2.png')"
   ]
  }
 ],
 "metadata": {
  "kernelspec": {
   "display_name": "Python 3",
   "language": "python",
   "name": "python3"
  },
  "language_info": {
   "codemirror_mode": {
    "name": "ipython",
    "version": 3
   },
   "file_extension": ".py",
   "mimetype": "text/x-python",
   "name": "python",
   "nbconvert_exporter": "python",
   "pygments_lexer": "ipython3",
   "version": "3.6.2"
  }
 },
 "nbformat": 4,
 "nbformat_minor": 2
}
